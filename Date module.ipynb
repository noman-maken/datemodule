{
 "cells": [
  {
   "cell_type": "code",
   "execution_count": null,
   "metadata": {},
   "outputs": [],
   "source": [
    "Which function is called when the following Python code is executed?\n",
    "\n",
    "f = foo()\n",
    "format(f)\n",
    "\n",
    "a) format()\n",
    "b) __format__()\n",
    "c) str()\n",
    "d) __str__()\n",
    "\n",
    "Both str(f) and format(f) call f.__str__()."
   ]
  },
  {
   "cell_type": "code",
   "execution_count": 4,
   "metadata": {},
   "outputs": [],
   "source": [
    "class foo:\n",
    "    def __init__(self, x):\n",
    "        self.x = x\n",
    "    def __lt__(self, other):\n",
    "        if self.x < other.x:\n",
    "            return True\n",
    "        else:\n",
    "            return False"
   ]
  },
  {
   "cell_type": "code",
   "execution_count": null,
   "metadata": {},
   "outputs": [],
   "source": [
    "Which function overloads the + operator?\n",
    "a) __add__()\n",
    "b) __plus__()\n",
    "c) __sum__()\n",
    "d) none of the mentioned"
   ]
  },
  {
   "cell_type": "code",
   "execution_count": null,
   "metadata": {},
   "outputs": [],
   "source": [
    "Which operator is overloaded by __invert__()?\n",
    "a) !\n",
    "b) ~\n",
    "c) ^\n",
    "d) –"
   ]
  },
  {
   "cell_type": "code",
   "execution_count": null,
   "metadata": {},
   "outputs": [],
   "source": [
    "Which function overloads the == operator?\n",
    "a) __eq__()\n",
    "b) __equ__()\n",
    "c) __isequal__()\n",
    "d) none of the mentioned"
   ]
  },
  {
   "cell_type": "code",
   "execution_count": 10,
   "metadata": {},
   "outputs": [
    {
     "name": "stdout",
     "output_type": "stream",
     "text": [
      "A disp()\n"
     ]
    }
   ],
   "source": [
    "class A():\n",
    "    def disp(self):\n",
    "        print(\"A disp()\")\n",
    "class B(A):\n",
    "    pass\n",
    "obj = B()\n",
    "obj.disp()\n",
    "\n",
    "#Class B inherits class A hence the function disp () becomes part of class B’s definition. \n",
    "#Hence disp() method is properly executed and the line is printed."
   ]
  },
  {
   "cell_type": "code",
   "execution_count": null,
   "metadata": {},
   "outputs": [],
   "source": [
    "Inheritance is a powerful feature in object oriented programming.\n",
    "It refers to defining a new class with little or no modification to an existing class. \n",
    "The new class is called derived (or child) class and the one from which it inherits is called the base (or parent) class."
   ]
  },
  {
   "cell_type": "markdown",
   "metadata": {},
   "source": [
    "# Date Time Modules"
   ]
  },
  {
   "cell_type": "code",
   "execution_count": 11,
   "metadata": {},
   "outputs": [
    {
     "name": "stdout",
     "output_type": "stream",
     "text": [
      "2016-07-24\n"
     ]
    }
   ],
   "source": [
    "import datetime\n",
    "d=datetime.date(2016,7,24)\n",
    "print(d)\n",
    "\n",
    "#we are simply printing the date entered by us. We enter the date in the format: yyyy,m,dd. \n",
    "#The date is then printed in the format: yyyy-mm-dd. Hence the output is: 2017-07-24."
   ]
  },
  {
   "cell_type": "code",
   "execution_count": null,
   "metadata": {},
   "outputs": [],
   "source": [
    "import datetime\n",
    "d=datetime.date(2017,06,18)\n",
    "print(d)\n",
    "\n",
    "The code shown above will result in an error because of the format of the date entered. \n",
    "Had the date been entered as: d=datetime.date(2017,6,18), no error would have been thrown."
   ]
  },
  {
   "cell_type": "code",
   "execution_count": null,
   "metadata": {},
   "outputs": [],
   "source": [
    "import datetime\n",
    "d=datetime.date(2017,06,18)\n",
    "print(d)\n"
   ]
  },
  {
   "cell_type": "code",
   "execution_count": 15,
   "metadata": {},
   "outputs": [
    {
     "name": "stdout",
     "output_type": "stream",
     "text": [
      "2020-06-18\n"
     ]
    }
   ],
   "source": [
    "import datetime\n",
    "tday=datetime.date.today()\n",
    "print(tday)\n",
    "\n",
    "#The code shown above prints the system date in the format yyyy-mm-dd. Hence the output of this code is: 2020-06-18."
   ]
  },
  {
   "cell_type": "code",
   "execution_count": 18,
   "metadata": {},
   "outputs": [
    {
     "name": "stdout",
     "output_type": "stream",
     "text": [
      "3\n"
     ]
    }
   ],
   "source": [
    "tday=datetime.date.today()\n",
    "print(tday.weekday())\n",
    "\n",
    "#The code shown above prints an integer depending on which day of the week it is. \n",
    "#Monday-0, Tuesday-1, Wednesday-2, Thursday-3, Friday-4, Saturday-5, Sunday-6. \n",
    "#Hence the output is 3 in the case shown above."
   ]
  },
  {
   "cell_type": "code",
   "execution_count": 19,
   "metadata": {},
   "outputs": [
    {
     "name": "stdout",
     "output_type": "stream",
     "text": [
      "4\n"
     ]
    }
   ],
   "source": [
    "tday=datetime.date.today()\n",
    "print(tday.isoweekday())\n",
    "\n",
    "#This code prints an integer depending on which day of the week it is. \n",
    "#Monday-1, Tuesday-2, Wednesday-3, Thursday-4, Friday-5, Saturday-6, Sunday-7. Hence the output of the code shown above is 3."
   ]
  },
  {
   "cell_type": "code",
   "execution_count": 23,
   "metadata": {},
   "outputs": [
    {
     "name": "stdout",
     "output_type": "stream",
     "text": [
      "1 day, 0:00:00\n"
     ]
    }
   ],
   "source": [
    "tday=datetime.date.today()\n",
    "bday=datetime.date(2020,6,19)\n",
    "till_bday=bday-tday\n",
    "print(till_bday)"
   ]
  },
  {
   "cell_type": "code",
   "execution_count": null,
   "metadata": {},
   "outputs": [],
   "source": [
    "The value returned when we use the function isoweekday() is ______ \n",
    "and that for the function weekday() is ________ if the system date is 19th June, 2017 (Monday).\n",
    "\n",
    "a) 0,0\n",
    "b) 0,1\n",
    "c) 1,0\n",
    "d) 1,1"
   ]
  },
  {
   "cell_type": "code",
   "execution_count": null,
   "metadata": {},
   "outputs": [],
   "source": [
    "The value returned when we use the function isoweekday() is 1 and that for the function weekday() is 0 if the system date is 18th June, 2020 (Thursday)."
   ]
  },
  {
   "cell_type": "code",
   "execution_count": 26,
   "metadata": {},
   "outputs": [
    {
     "name": "stdout",
     "output_type": "stream",
     "text": [
      "2020-06-28\n"
     ]
    }
   ],
   "source": [
    "tday=datetime.date.today()\n",
    "tdelta=datetime.timedelta(days=10)\n",
    "print(tday+tdelta)\n",
    "\n",
    "#The code shown above will add the specified number of days to the current date and print the new date. "
   ]
  },
  {
   "cell_type": "code",
   "execution_count": null,
   "metadata": {},
   "outputs": [],
   "source": []
  }
 ],
 "metadata": {
  "kernelspec": {
   "display_name": "Python 3",
   "language": "python",
   "name": "python3"
  },
  "language_info": {
   "codemirror_mode": {
    "name": "ipython",
    "version": 3
   },
   "file_extension": ".py",
   "mimetype": "text/x-python",
   "name": "python",
   "nbconvert_exporter": "python",
   "pygments_lexer": "ipython3",
   "version": "3.7.6"
  }
 },
 "nbformat": 4,
 "nbformat_minor": 4
}
